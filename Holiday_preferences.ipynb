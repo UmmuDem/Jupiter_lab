{
 "cells": [
  {
   "cell_type": "markdown",
   "id": "6b5c6190",
   "metadata": {},
   "source": [
    "# My Dream Holiday"
   ]
  },
  {
   "cell_type": "markdown",
   "id": "be68f2f0",
   "metadata": {},
   "source": [
    "This is a personal notebook to plan my dream holiday.\n"
   ]
  },
  {
   "cell_type": "markdown",
   "id": "f3cf0091",
   "metadata": {},
   "source": [
    "![This is me ready to go:](https://drive.google.com/file/d/1pxchbZO6gBETlwKhsXO1q4uwAPUsLc4A/view?usp=sharing)"
   ]
  },
  {
   "cell_type": "code",
   "execution_count": null,
   "id": "f0cae7de",
   "metadata": {},
   "outputs": [],
   "source": []
  }
 ],
 "metadata": {
  "kernelspec": {
   "display_name": "Python 3",
   "language": "python",
   "name": "python3"
  },
  "language_info": {
   "codemirror_mode": {
    "name": "ipython",
    "version": 3
   },
   "file_extension": ".py",
   "mimetype": "text/x-python",
   "name": "python",
   "nbconvert_exporter": "python",
   "pygments_lexer": "ipython3",
   "version": "3.8.8"
  }
 },
 "nbformat": 4,
 "nbformat_minor": 5
}
